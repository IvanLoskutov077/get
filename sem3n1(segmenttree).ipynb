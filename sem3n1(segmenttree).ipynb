{
 "cells": [
  {
   "cell_type": "code",
   "execution_count": 2,
   "id": "414411bf-d802-4265-8e4a-99bdc17e6f0f",
   "metadata": {},
   "outputs": [],
   "source": [
    "from math import log2, ceil\n",
    "NEUTRAL_ELEMENT = 0\n",
    "\n",
    "def build(arr):\n",
    "    N = 2 ** ceil(log2(len(arr)))\n",
    "    for _ in range (N-len(arr)):\n",
    "        arr.append(NEUTRAL_ELEMENT)\n",
    "        \n",
    "    tree = [NEUTRAL_ELEMENT for i in range (2*N)]\n",
    "    for i in range(0, N):\n",
    "        tree[N -1 + i] = arr[i]\n",
    "    for i in range(N-2, -1, -1):\n",
    "             tree[i] = tree[2*i + 1] + tree[2*i+2]\n",
    "             \n",
    "    return tree\n",
    "    "
   ]
  },
  {
   "cell_type": "code",
   "execution_count": 6,
   "id": "cd739dc8-dbde-4b53-b66d-129ba293e57f",
   "metadata": {
    "tags": []
   },
   "outputs": [],
   "source": [
    "def _query(tree, qlo, qhi, lo, hi, pos):\n",
    "    if no_overlap(qlo, qhi, lo, hi):\n",
    "        return NEUTRAL_ELEMENT\n",
    "    \n",
    "    if total_overlap(qlo, qhi, lo, hi):\n",
    "        return tree[pos]\n",
    "    \n",
    "    mid = (lo + hi)/2\n",
    "    return _query(tree, qlo, qhi, lo, mid, 2*pos + 1) + _query(tree, qlo, qhi, mid, hi, 2*pos + 2)\n",
    "        \n",
    "def query(tree, qlo, qhi):\n",
    "    return _query (tree, qlo, qhi, 0, len(tree)//2, 0)\n",
    "        \n",
    "        \n",
    "def no_overlap(qlo, qhi, lo, hi):\n",
    "    return qlo >= hi or qhi <= lo\n",
    "\n",
    "def total_overlap(qlo, qhi, lo, hi):\n",
    "    return qlo <= lo and hi <= qhi\n"
   ]
  },
  {
   "cell_type": "code",
   "execution_count": 12,
   "id": "4dd117e4-0ebb-452f-9aad-51f9e06d2dd9",
   "metadata": {
    "tags": []
   },
   "outputs": [
    {
     "name": "stdout",
     "output_type": "stream",
     "text": [
      "Init arr: [3, 2, -1, 6, 5, 4, -3, 3, 7, 2, 3]\n",
      "Init tree: [31, 19, 12, 10, 9, 12, 0, 5, 5, 9, 0, 9, 3, 0, 0, 3, 2, -1, 6, 5, 4, -3, 3, 7, 2, 3, 0, 0, 0, 0, 0, 0]\n",
      "15\n"
     ]
    }
   ],
   "source": [
    "arr = [3,2,-1,6,5,4,-3,3,7,2,3]\n",
    "print(f\"Init arr: {arr}\")\n",
    "\n",
    "tree = build(arr)\n",
    "print(f\"Init tree: {tree}\")\n",
    "print(query(tree, 3, 6))"
   ]
  },
  {
   "cell_type": "code",
   "execution_count": null,
   "id": "12cb8681-6e93-4ad8-9e79-74452fa14703",
   "metadata": {},
   "outputs": [],
   "source": []
  }
 ],
 "metadata": {
  "kernelspec": {
   "display_name": "Python 3 (ipykernel)",
   "language": "python",
   "name": "python3"
  },
  "language_info": {
   "codemirror_mode": {
    "name": "ipython",
    "version": 3
   },
   "file_extension": ".py",
   "mimetype": "text/x-python",
   "name": "python",
   "nbconvert_exporter": "python",
   "pygments_lexer": "ipython3",
   "version": "3.11.5"
  }
 },
 "nbformat": 4,
 "nbformat_minor": 5
}
