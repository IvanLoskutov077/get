{
 "cells": [
  {
   "cell_type": "code",
   "execution_count": 7,
   "id": "16af65fd-95bc-4702-985f-9cc7c5b79d54",
   "metadata": {
    "tags": []
   },
   "outputs": [],
   "source": [
    "from math import log2, ceil\n",
    "NEUTRAL_ELEMENT = 0\n",
    "\n",
    "def build(arr):\n",
    "    N = 2 ** ceil(log2(len(arr)))\n",
    "    for _ in range(N-len(arr)):\n",
    "        arr.append(NEUTRAL_ELEMENT)\n",
    "        \n",
    "    tree = [NEUTRAL_ELEMENT for i in range (2*N)]\n",
    "    \n",
    "    for i in range(N):\n",
    "        modify(tree, i, arr[i])\n",
    "    \n",
    "    return tree\n",
    "\n",
    "def modify(tree, i, d):\n",
    "    while i < len(tree)//2:\n",
    "        tree[i] += d\n",
    "        i = i | (i+1)\n",
    "        \n",
    "def set_elem(tree, arr, i , d):\n",
    "    x = d - arr[i]\n",
    "    arr[i] = d\n",
    "    modify(tree, i, arr[i])\n",
    "\n",
    "def query(tree, qlo, qhi):\n",
    "    return _sum(tree, qhi) - _sum(tree, qlo)\n",
    "\n",
    "def _sum(tree, q):\n",
    "    res = NEUTRAL_ELEMENT\n",
    "    while q>=0:\n",
    "        res += tree[q]\n",
    "        q = (q & (q+1)) -1 \n",
    "        \n",
    "    return res"
   ]
  },
  {
   "cell_type": "code",
   "execution_count": 13,
   "id": "19e6d4a8-705d-4340-96ea-37e0b9b79ca8",
   "metadata": {
    "tags": []
   },
   "outputs": [
    {
     "name": "stdout",
     "output_type": "stream",
     "text": [
      "Init arr: [3, 2, -1, 6, 5, 4, -3, 3, 7, 2, 3]\n",
      "Init tree: [3, 5, -1, 10, 5, 9, -3, 19, 7, 9, 3, 12, 0, 0, 0, 31, 0, 0, 0, 0, 0, 0, 0, 0, 0, 0, 0, 0, 0, 0, 0, 0]\n",
      "19\n"
     ]
    }
   ],
   "source": [
    "arr = [3,2,-1,6,5,4,-3,3,7,2,3]\n",
    "print(f\"Init arr: {arr}\")\n",
    "\n",
    "tree = build(arr)\n",
    "print(f\"Init tree: {tree}\")\n",
    "print(query(tree, -1, 5))"
   ]
  },
  {
   "cell_type": "code",
   "execution_count": null,
   "id": "184ada10-9749-4c1f-b01d-ff8b7241850a",
   "metadata": {},
   "outputs": [],
   "source": []
  }
 ],
 "metadata": {
  "kernelspec": {
   "display_name": "Python 3 (ipykernel)",
   "language": "python",
   "name": "python3"
  },
  "language_info": {
   "codemirror_mode": {
    "name": "ipython",
    "version": 3
   },
   "file_extension": ".py",
   "mimetype": "text/x-python",
   "name": "python",
   "nbconvert_exporter": "python",
   "pygments_lexer": "ipython3",
   "version": "3.11.5"
  }
 },
 "nbformat": 4,
 "nbformat_minor": 5
}
